{
 "cells": [
  {
   "cell_type": "markdown",
   "metadata": {},
   "source": [
    "### Load the required libraries"
   ]
  },
  {
   "cell_type": "code",
   "execution_count": 1,
   "metadata": {},
   "outputs": [],
   "source": [
    "import os\n",
    "import re\n",
    "import numpy as np\n",
    "import pandas as pd\n",
    "%matplotlib inline\n",
    "import matplotlib.pyplot as plt\n",
    "import seaborn as sns"
   ]
  },
  {
   "cell_type": "markdown",
   "metadata": {},
   "source": [
    "### Data Munging"
   ]
  },
  {
   "cell_type": "code",
   "execution_count": 2,
   "metadata": {},
   "outputs": [
    {
     "data": {
      "text/html": [
       "<div>\n",
       "<style scoped>\n",
       "    .dataframe tbody tr th:only-of-type {\n",
       "        vertical-align: middle;\n",
       "    }\n",
       "\n",
       "    .dataframe tbody tr th {\n",
       "        vertical-align: top;\n",
       "    }\n",
       "\n",
       "    .dataframe thead th {\n",
       "        text-align: right;\n",
       "    }\n",
       "</style>\n",
       "<table border=\"1\" class=\"dataframe\">\n",
       "  <thead>\n",
       "    <tr style=\"text-align: right;\">\n",
       "      <th></th>\n",
       "      <th>Camera ID</th>\n",
       "      <th>TimeStamp</th>\n",
       "      <th>Latitude</th>\n",
       "      <th>Longitude</th>\n",
       "      <th>Direction</th>\n",
       "      <th>Highway</th>\n",
       "      <th>Traffic Status</th>\n",
       "      <th>Average Vehicle Speed</th>\n",
       "      <th>Vehicle Flow</th>\n",
       "      <th>Traffic Concentration</th>\n",
       "    </tr>\n",
       "  </thead>\n",
       "  <tbody>\n",
       "    <tr>\n",
       "      <th>0</th>\n",
       "      <td>A13.PS.35385</td>\n",
       "      <td>2019-11-19T07:39:00.000+01:00</td>\n",
       "      <td>49.502388</td>\n",
       "      <td>6.305461</td>\n",
       "      <td>outboundFromTown</td>\n",
       "      <td>A13</td>\n",
       "      <td>freeFlow</td>\n",
       "      <td>153.0</td>\n",
       "      <td>200</td>\n",
       "      <td>0</td>\n",
       "    </tr>\n",
       "    <tr>\n",
       "      <th>1</th>\n",
       "      <td>A13.PS.27220</td>\n",
       "      <td>2019-11-19T07:39:00.000+01:00</td>\n",
       "      <td>49.509060</td>\n",
       "      <td>6.206102</td>\n",
       "      <td>outboundFromTown</td>\n",
       "      <td>A13</td>\n",
       "      <td>unknown</td>\n",
       "      <td>NaN</td>\n",
       "      <td>0</td>\n",
       "      <td>0</td>\n",
       "    </tr>\n",
       "    <tr>\n",
       "      <th>2</th>\n",
       "      <td>A13.PTAES.4962</td>\n",
       "      <td>2019-11-19T07:39:00.000+01:00</td>\n",
       "      <td>49.530857</td>\n",
       "      <td>5.941860</td>\n",
       "      <td>inboundTowardsTown</td>\n",
       "      <td>A13</td>\n",
       "      <td>freeFlow</td>\n",
       "      <td>101.0</td>\n",
       "      <td>1881</td>\n",
       "      <td>4</td>\n",
       "    </tr>\n",
       "    <tr>\n",
       "      <th>3</th>\n",
       "      <td>A13.PS.13460</td>\n",
       "      <td>2019-11-19T07:39:00.000+01:00</td>\n",
       "      <td>49.511353</td>\n",
       "      <td>6.031762</td>\n",
       "      <td>outboundFromTown</td>\n",
       "      <td>A13</td>\n",
       "      <td>unknown</td>\n",
       "      <td>NaN</td>\n",
       "      <td>0</td>\n",
       "      <td>0</td>\n",
       "    </tr>\n",
       "    <tr>\n",
       "      <th>4</th>\n",
       "      <td>A13.SP.23974</td>\n",
       "      <td>2019-11-19T07:39:00.000+01:00</td>\n",
       "      <td>49.508278</td>\n",
       "      <td>6.163718</td>\n",
       "      <td>inboundTowardsTown</td>\n",
       "      <td>A13</td>\n",
       "      <td>freeFlow</td>\n",
       "      <td>123.0</td>\n",
       "      <td>2716</td>\n",
       "      <td>3</td>\n",
       "    </tr>\n",
       "  </tbody>\n",
       "</table>\n",
       "</div>"
      ],
      "text/plain": [
       "        Camera ID                      TimeStamp   Latitude  Longitude  \\\n",
       "0    A13.PS.35385  2019-11-19T07:39:00.000+01:00  49.502388   6.305461   \n",
       "1    A13.PS.27220  2019-11-19T07:39:00.000+01:00  49.509060   6.206102   \n",
       "2  A13.PTAES.4962  2019-11-19T07:39:00.000+01:00  49.530857   5.941860   \n",
       "3    A13.PS.13460  2019-11-19T07:39:00.000+01:00  49.511353   6.031762   \n",
       "4    A13.SP.23974  2019-11-19T07:39:00.000+01:00  49.508278   6.163718   \n",
       "\n",
       "            Direction Highway Traffic Status  Average Vehicle Speed  \\\n",
       "0    outboundFromTown     A13       freeFlow                  153.0   \n",
       "1    outboundFromTown     A13        unknown                    NaN   \n",
       "2  inboundTowardsTown     A13       freeFlow                  101.0   \n",
       "3    outboundFromTown     A13        unknown                    NaN   \n",
       "4  inboundTowardsTown     A13       freeFlow                  123.0   \n",
       "\n",
       "   Vehicle Flow  Traffic Concentration  \n",
       "0           200                      0  \n",
       "1             0                      0  \n",
       "2          1881                      4  \n",
       "3             0                      0  \n",
       "4          2716                      3  "
      ]
     },
     "execution_count": 2,
     "metadata": {},
     "output_type": "execute_result"
    }
   ],
   "source": [
    "green_data = pd.read_csv(r\"C:\\Users\\wanji\\Desktop\\Grren Speed\\datexDataA13 clean.csv\")\n",
    "green_data.head()\n"
   ]
  },
  {
   "cell_type": "markdown",
   "metadata": {},
   "source": [
    "### Understanding the data\n",
    "* `Dataset Info`\n",
    "* `Shape`\n",
    "* `Columns,Columns names and data types`"
   ]
  },
  {
   "cell_type": "code",
   "execution_count": 3,
   "metadata": {},
   "outputs": [
    {
     "name": "stdout",
     "output_type": "stream",
     "text": [
      "<class 'pandas.core.frame.DataFrame'>\n",
      "RangeIndex: 816868 entries, 0 to 816867\n",
      "Data columns (total 10 columns):\n",
      " #   Column                 Non-Null Count   Dtype  \n",
      "---  ------                 --------------   -----  \n",
      " 0   Camera ID              816868 non-null  object \n",
      " 1   TimeStamp              816868 non-null  object \n",
      " 2   Latitude               816868 non-null  float64\n",
      " 3   Longitude              816868 non-null  float64\n",
      " 4   Direction              816868 non-null  object \n",
      " 5   Highway                816868 non-null  object \n",
      " 6   Traffic Status         816868 non-null  object \n",
      " 7   Average Vehicle Speed  613420 non-null  float64\n",
      " 8   Vehicle Flow           816868 non-null  int64  \n",
      " 9   Traffic Concentration  816868 non-null  int64  \n",
      "dtypes: float64(3), int64(2), object(5)\n",
      "memory usage: 62.3+ MB\n",
      "None\n"
     ]
    }
   ],
   "source": [
    "# Function to know the info of the datasets\n",
    "def create_dataset_info(dataset):\n",
    "    if isinstance(dataset, pd.DataFrame):\n",
    "        info = dataset.info()\n",
    "        return info\n",
    "    else:\n",
    "        return \"Invalid dataset type. Please provide a Pandas DataFrame.\"\n",
    "# Assuming you have a dataset named 'sales_data'\n",
    "dataset_info = create_dataset_info(green_data)\n",
    "print(dataset_info)"
   ]
  },
  {
   "cell_type": "code",
   "execution_count": 4,
   "metadata": {},
   "outputs": [
    {
     "name": "stdout",
     "output_type": "stream",
     "text": [
      "Dataset shape: (816868, 10)\n"
     ]
    }
   ],
   "source": [
    "# Function to know the shape \n",
    "def check_dataset_shape(dataset):\n",
    "    if isinstance(dataset, np.ndarray):\n",
    "        print(\"Dataset shape:\", dataset.shape)\n",
    "    elif isinstance(dataset, pd.DataFrame):\n",
    "        print(\"Dataset shape:\", dataset.shape)\n",
    "    else:\n",
    "        print(\"Invalid dataset type. Please provide a NumPy array or a Pandas DataFrame.\")\n",
    "        \n",
    "check_dataset_shape(green_data)"
   ]
  },
  {
   "cell_type": "code",
   "execution_count": 5,
   "metadata": {},
   "outputs": [
    {
     "name": "stdout",
     "output_type": "stream",
     "text": [
      "            Latitude      Longitude  Average Vehicle Speed   Vehicle Flow  \\\n",
      "count  816868.000000  816868.000000          613420.000000  816868.000000   \n",
      "mean       49.508072       6.157052             103.492835     544.078395   \n",
      "std         0.051175       0.160656              20.046577     607.458282   \n",
      "min         7.000000       5.903059               0.000000       0.000000   \n",
      "25%        49.493477       5.972471              92.000000      35.000000   \n",
      "50%        49.509060       6.194627             103.000000     309.000000   \n",
      "75%        49.519505       6.322593             116.000000     875.000000   \n",
      "max        49.555190       6.364823             250.000000    5186.000000   \n",
      "\n",
      "       Traffic Concentration  \n",
      "count          816868.000000  \n",
      "mean                1.272714  \n",
      "std                 1.990619  \n",
      "min                 0.000000  \n",
      "25%                 0.000000  \n",
      "50%                 0.000000  \n",
      "75%                 2.000000  \n",
      "max                48.000000  \n"
     ]
    }
   ],
   "source": [
    "# Function to know statistics\n",
    "def get_dataset_statistics_describe(dataset):\n",
    "\n",
    "    dataset_describe = dataset.describe()\n",
    "    print(dataset_describe)\n",
    "\n",
    "\n",
    "# Call the function to get information about the dataset\n",
    "get_dataset_statistics_describe(green_data)"
   ]
  },
  {
   "cell_type": "code",
   "execution_count": 6,
   "metadata": {},
   "outputs": [
    {
     "data": {
      "text/plain": [
       "Index(['Camera ID', 'TimeStamp', 'Latitude', 'Longitude', 'Direction',\n",
       "       'Highway', 'Traffic Status', 'Average Vehicle Speed', 'Vehicle Flow',\n",
       "       'Traffic Concentration'],\n",
       "      dtype='object')"
      ]
     },
     "execution_count": 6,
     "metadata": {},
     "output_type": "execute_result"
    }
   ],
   "source": [
    "# Examine the columns in the dataset\n",
    "green_data.columns"
   ]
  },
  {
   "cell_type": "code",
   "execution_count": 7,
   "metadata": {},
   "outputs": [
    {
     "name": "stdout",
     "output_type": "stream",
     "text": [
      "326505\n"
     ]
    }
   ],
   "source": [
    "# Check for duplicates\n",
    "def dataset_duplicated(dataset):\n",
    "  \n",
    "    dataset_duplicated = dataset.duplicated().sum()\n",
    "    print(dataset_duplicated)\n",
    "\n",
    "\n",
    "dataset_duplicated(green_data)"
   ]
  },
  {
   "cell_type": "markdown",
   "metadata": {},
   "source": [
    "### 2) Data Cleaning"
   ]
  },
  {
   "cell_type": "code",
   "execution_count": 8,
   "metadata": {},
   "outputs": [
    {
     "name": "stdout",
     "output_type": "stream",
     "text": [
      "326505\n"
     ]
    }
   ],
   "source": [
    "# Check for duplicates\n",
    "def dataset_duplicated(dataset):\n",
    "  \n",
    "    dataset_duplicated = dataset.duplicated().sum()\n",
    "    print(dataset_duplicated)\n",
    "\n",
    "\n",
    "dataset_duplicated(green_data)"
   ]
  },
  {
   "cell_type": "code",
   "execution_count": 9,
   "metadata": {},
   "outputs": [],
   "source": [
    "# Drop the duplicates\n",
    "def drop_duplicates(dataset):\n",
    "    dataset.drop_duplicates(inplace = True)\n",
    "    \n",
    "drop_duplicates(green_data) "
   ]
  },
  {
   "cell_type": "code",
   "execution_count": 10,
   "metadata": {},
   "outputs": [
    {
     "data": {
      "text/plain": [
       "0"
      ]
     },
     "execution_count": 10,
     "metadata": {},
     "output_type": "execute_result"
    }
   ],
   "source": [
    "# Confirm/check for duplictes\n",
    "green_data.duplicated().sum()"
   ]
  },
  {
   "cell_type": "markdown",
   "metadata": {},
   "source": [
    "* Missing Values"
   ]
  },
  {
   "cell_type": "code",
   "execution_count": 11,
   "metadata": {},
   "outputs": [
    {
     "name": "stdout",
     "output_type": "stream",
     "text": [
      "Column               Missing Values  Percentage     \n",
      "Average Vehicle Speed 122148          24.91          \n"
     ]
    }
   ],
   "source": [
    "# Check the percentage of the missing values\n",
    "def print_missing_values(green_data):\n",
    "\n",
    "    # Get columns with missing values\n",
    "    columns_with_missing = green_data.columns[green_data.isnull().any()].tolist()\n",
    "\n",
    "    # Calculate sum and percentage of missing values for each column\n",
    "    missing_values_sum = green_data[columns_with_missing].isnull().sum()\n",
    "    missing_values_percentage = (missing_values_sum / len(green_data)) * 100\n",
    "\n",
    "    # Create a table with the missing values information\n",
    "    missing_values_table = pd.DataFrame({\n",
    "        'Column': columns_with_missing,\n",
    "        'Missing Values': missing_values_sum,\n",
    "        'Percentage': missing_values_percentage\n",
    "    })\n",
    "\n",
    "    # Print the table with column names and their respective missing values\n",
    "    print(f\"{'Column':<20} {'Missing Values':<15} {'Percentage':<15}\")\n",
    "    for _, row in missing_values_table.iterrows():\n",
    "        print(f\"{row['Column']:<20} {row['Missing Values']:<15} {row['Percentage']:<15.2f}\")\n",
    "\n",
    "print_missing_values(green_data)"
   ]
  },
  {
   "cell_type": "code",
   "execution_count": 12,
   "metadata": {},
   "outputs": [],
   "source": [
    "mean_speed = green_data['Average Vehicle Speed'].mean()\n",
    "green_data['Average Vehicle Speed'].fillna(mean_speed, inplace = True)"
   ]
  },
  {
   "cell_type": "code",
   "execution_count": 13,
   "metadata": {},
   "outputs": [
    {
     "data": {
      "text/plain": [
       "Camera ID                0\n",
       "TimeStamp                0\n",
       "Latitude                 0\n",
       "Longitude                0\n",
       "Direction                0\n",
       "Highway                  0\n",
       "Traffic Status           0\n",
       "Average Vehicle Speed    0\n",
       "Vehicle Flow             0\n",
       "Traffic Concentration    0\n",
       "dtype: int64"
      ]
     },
     "execution_count": 13,
     "metadata": {},
     "output_type": "execute_result"
    }
   ],
   "source": [
    "# Confirm any more missing values\n",
    "green_data.isnull().sum()"
   ]
  },
  {
   "cell_type": "markdown",
   "metadata": {},
   "source": [
    "### EDA"
   ]
  },
  {
   "cell_type": "code",
   "execution_count": null,
   "metadata": {},
   "outputs": [],
   "source": [
    "# Time Series Analysis \n",
    "green_data['TimeStamp'] = pd.dt_datetime(green_data['TimeStamp'])\n",
    "plt.figure(figsize =(10,6))\n",
    "plt.plot(green_data)"
   ]
  }
 ],
 "metadata": {
  "kernelspec": {
   "display_name": "learn-env",
   "language": "python",
   "name": "python3"
  },
  "language_info": {
   "codemirror_mode": {
    "name": "ipython",
    "version": 3
   },
   "file_extension": ".py",
   "mimetype": "text/x-python",
   "name": "python",
   "nbconvert_exporter": "python",
   "pygments_lexer": "ipython3",
   "version": "3.8.5"
  }
 },
 "nbformat": 4,
 "nbformat_minor": 2
}
